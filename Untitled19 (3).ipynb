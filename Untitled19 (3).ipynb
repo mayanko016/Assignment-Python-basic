{
 "cells": [
  {
   "cell_type": "markdown",
   "id": "c664f03c-581d-422e-a3d3-25b675497b0e",
   "metadata": {},
   "source": [
    "\n",
    "\n",
    "                                                Assignment 1"
   ]
  },
  {
   "cell_type": "code",
   "execution_count": null,
   "id": "677c843b-9fd0-490d-b1e6-063e2dde47f3",
   "metadata": {},
   "outputs": [],
   "source": [
    "#      Python Basics Questions"
   ]
  },
  {
   "cell_type": "code",
   "execution_count": 2,
   "id": "218da44d-be5a-4981-9b29-75eb827c65ff",
   "metadata": {},
   "outputs": [],
   "source": [
    "#1. What is Python, and why is it popular?\n",
    "\n",
    "#ANS. python is a high - level , easy to read programming language, And it popular beacuase\n",
    "# it is beginner - friendly and works for many things like data anaytics , data science and web development etc"
   ]
  },
  {
   "cell_type": "code",
   "execution_count": 3,
   "id": "6aac42ad-f392-47af-ac18-82992b670028",
   "metadata": {},
   "outputs": [],
   "source": [
    "# 2. What is an interpreter in Python?\n",
    "\n",
    "# ANS. Interpreter run python code line by line , coverting \n",
    "# it to machine code so the computer can understand and execure it."
   ]
  },
  {
   "cell_type": "code",
   "execution_count": 4,
   "id": "fc318734-c35e-4232-a88c-ad154d6e9114",
   "metadata": {},
   "outputs": [],
   "source": [
    "# 3. What are pre-defined keywords in Python?\n",
    "\n",
    "# ANS. Pre defined keywords in python are reserved words like if ,while,class,for , etc \n",
    "# that have specific uses in python."
   ]
  },
  {
   "cell_type": "code",
   "execution_count": 5,
   "id": "faf7c999-5ced-4adb-b3e7-b2fe89845f1e",
   "metadata": {},
   "outputs": [],
   "source": [
    "# 4. Can keywords be used as variable names?\n",
    "\n",
    "# ANS. No because they are reserved for specific task in python"
   ]
  },
  {
   "cell_type": "code",
   "execution_count": 6,
   "id": "ef3442da-5515-4675-bd95-9991ff6a0dd7",
   "metadata": {},
   "outputs": [],
   "source": [
    "# 5. What is mutability in Python?\n",
    "\n",
    "# ANS. if the data type can be changed after it created so it is known as mutability"
   ]
  },
  {
   "cell_type": "code",
   "execution_count": 7,
   "id": "f95e400e-e383-4c8d-b853-54dda7cd0ff4",
   "metadata": {},
   "outputs": [],
   "source": [
    "# 6. Why are lists mutable, but tuples are immutable?\n",
    "\n",
    "# ANS. list are mutable beause we want it flexible and changeable .\n",
    "# but tuples are immutable because we want fixed data that shouldn't be changed accidentally"
   ]
  },
  {
   "cell_type": "code",
   "execution_count": 8,
   "id": "42cc2ff7-555a-4953-b859-a040ee424171",
   "metadata": {},
   "outputs": [],
   "source": [
    "# 7 What is the difference between “==” and “is” operators in Python \n",
    "\n",
    "# ANS. \"==\" check if values are equal or not and\n",
    "# \"is\" check if two variable point to the same memory location or not"
   ]
  },
  {
   "cell_type": "code",
   "execution_count": 9,
   "id": "7f4e5cdf-b3d8-4af7-ab41-0d98a4a46e71",
   "metadata": {},
   "outputs": [],
   "source": [
    "# 8. What are logical operators in Python?\n",
    "\n",
    "# ANS. logical operators are used to combine conditions"
   ]
  },
  {
   "cell_type": "code",
   "execution_count": 10,
   "id": "f71ce4d1-2d87-4e8c-9166-109db226a720",
   "metadata": {},
   "outputs": [],
   "source": [
    "# 9. What is type casting in Python?\n",
    "\n",
    "# ANS. type casing means converting one data type to another data type."
   ]
  },
  {
   "cell_type": "code",
   "execution_count": 11,
   "id": "bbf90e5f-1d19-4d77-9d99-81d7fb41209a",
   "metadata": {},
   "outputs": [],
   "source": [
    "# 10. What is the difference between implicit and explicit type casting?\n",
    "\n",
    "# ANS. The differnce is in impllicit python does it automatically like(1+1.0=2.0)\n",
    "# and in Explicit we have to do it manually using function lik- int(), float()"
   ]
  },
  {
   "cell_type": "code",
   "execution_count": 12,
   "id": "b512233a-74d4-40b3-a7d4-f5ef8897f0be",
   "metadata": {},
   "outputs": [],
   "source": [
    "# 11. What is the purpose of conditional statements in Python?\n",
    "\n",
    "# ANS.the puspose is that program make decisions and run code based on conditions like if , elif , else"
   ]
  },
  {
   "cell_type": "code",
   "execution_count": 13,
   "id": "40653efa-5fd0-49a5-9178-8d0eda1698d2",
   "metadata": {},
   "outputs": [],
   "source": [
    "# 12. How does the elif statement work ?\n",
    "\n",
    "# ANS. elif is stand for else if . it used in conditional statements to check for multiple conitions ,\n",
    "#  EX- if the first condition is false it moves on thr nrxt elif statement to check that condition is true."
   ]
  },
  {
   "cell_type": "code",
   "execution_count": 14,
   "id": "d700cb8a-07e0-4dda-9d2f-03357e3f5bd1",
   "metadata": {},
   "outputs": [],
   "source": [
    "# 13. What is the difference between for and while loops?\n",
    "\n",
    "# ANS. the differnece is for is used when we know how many times to loop and \n",
    "# while is used when we loop until a condition becomes false."
   ]
  },
  {
   "cell_type": "code",
   "execution_count": 15,
   "id": "6c212dde-b6e7-4d32-851b-8ec208285c87",
   "metadata": {},
   "outputs": [],
   "source": [
    "# 14. Describe a scenario where a while loop is more suitable than a for loop.\n",
    "\n",
    "# ANS. while loop is more suitable in getting input like valid password and we don't know how may tries it take so while loop is better\n",
    "                                                                  "
   ]
  },
  {
   "cell_type": "markdown",
   "id": "80c8e4dd-74db-4afd-9a2d-5cc436466150",
   "metadata": {},
   "source": [
    "Practical questions"
   ]
  },
  {
   "cell_type": "code",
   "execution_count": 16,
   "id": "5be4ce23-0705-4d5d-9273-32e28989f94a",
   "metadata": {},
   "outputs": [
    {
     "name": "stdout",
     "output_type": "stream",
     "text": [
      "Hello, World!\n"
     ]
    }
   ],
   "source": [
    " #1. Write a Python program to print \"Hello, World!\"\n",
    "\n",
    "print(\"Hello, World!\")\n",
    "\n"
   ]
  },
  {
   "cell_type": "code",
   "execution_count": 20,
   "id": "f5f89fad-43a3-417e-bad9-24e130a7176e",
   "metadata": {},
   "outputs": [
    {
     "name": "stdout",
     "output_type": "stream",
     "text": [
      "My name is Mayank Rathore and I am 22 years old.\n"
     ]
    }
   ],
   "source": [
    "# 2. Write a Python program that displays your name and age.\n",
    "\n",
    "name = \"Mayank Rathore\"\n",
    "age = 22\n",
    "print(f\"My name is {name} and I am {age} years old.\")\n"
   ]
  },
  {
   "cell_type": "code",
   "execution_count": 22,
   "id": "a46917cb-3c15-4f72-b71a-c0c8290bd887",
   "metadata": {},
   "outputs": [
    {
     "name": "stdout",
     "output_type": "stream",
     "text": [
      "Python Keywords:\n",
      "['False', 'None', 'True', 'and', 'as', 'assert', 'async', 'await', 'break', 'class', 'continue', 'def', 'del', 'elif', 'else', 'except', 'finally', 'for', 'from', 'global', 'if', 'import', 'in', 'is', 'lambda', 'nonlocal', 'not', 'or', 'pass', 'raise', 'return', 'try', 'while', 'with', 'yield']\n"
     ]
    }
   ],
   "source": [
    "# 3. Write code to print all the pre-defined keywords in Python using the keyword library\n",
    "\n",
    "import keyword\n",
    "print(\"Python Keywords:\")\n",
    "print(keyword.kwlist)\n"
   ]
  },
  {
   "cell_type": "code",
   "execution_count": 23,
   "id": "18f3cfd1-d4cd-4f21-ae84-756c552a0bbc",
   "metadata": {},
   "outputs": [
    {
     "name": "stdin",
     "output_type": "stream",
     "text": [
      "Enter a word:  True\n"
     ]
    },
    {
     "name": "stdout",
     "output_type": "stream",
     "text": [
      "'True' is a Python keyword.\n"
     ]
    }
   ],
   "source": [
    " # 4. Write a program that checks if a given word is a Python keyword\n",
    "\n",
    "import keyword\n",
    "\n",
    "word = input(\"Enter a word: \")\n",
    "if keyword.iskeyword(word):\n",
    "    print(f\"'{word}' is a Python keyword.\")\n",
    "else:\n",
    "    print(f\"'{word}' is NOT a Python keyword.\")\n"
   ]
  },
  {
   "cell_type": "code",
   "execution_count": 2,
   "id": "588a48ae-b125-4be1-9aa5-0dca97842ed3",
   "metadata": {},
   "outputs": [
    {
     "name": "stdout",
     "output_type": "stream",
     "text": [
      "Modified List: [10, 2, 3]\n",
      "Error with tuple: 'tuple' object does not support item assignment\n"
     ]
    }
   ],
   "source": [
    "# 5. Create a list and tuple in Python, and demonstrate \n",
    "# how attempting to change an element works differently for each\n",
    "\n",
    "my_list = [1, 2, 3]\n",
    "my_tuple = (1, 2, 3)\n",
    "\n",
    "# Changing list element\n",
    "my_list[0] = 10\n",
    "print(\"Modified List:\", my_list)\n",
    "\n",
    "# Trying to change tuple element ( error)\n",
    "try:\n",
    "    my_tuple[0] = 10\n",
    "except TypeError as e:\n",
    "    \n",
    "    print(\"Error with tuple:\", e)\n",
    "\n",
    "\n"
   ]
  },
  {
   "cell_type": "code",
   "execution_count": 25,
   "id": "d971f9b7-cae7-4414-958d-11ab9d143862",
   "metadata": {},
   "outputs": [
    {
     "name": "stdin",
     "output_type": "stream",
     "text": [
      "Enter first number:  2.5\n",
      "Enter second number:  2.5\n"
     ]
    },
    {
     "name": "stdout",
     "output_type": "stream",
     "text": [
      "Addition: 5.0\n",
      "Subtraction: 0.0\n",
      "Multiplication: 6.25\n",
      "Division: 1.0\n"
     ]
    }
   ],
   "source": [
    " # 6. Write a program that performs basic arithmetic operations on two user-input numbers\n",
    "a = float(input(\"Enter first number: \"))\n",
    "b = float(input(\"Enter second number: \"))\n",
    "\n",
    "print(\"Addition:\", a + b)\n",
    "print(\"Subtraction:\", a - b)\n",
    "print(\"Multiplication:\", a * b)\n",
    "print(\"Division:\", a / b)\n"
   ]
  },
  {
   "cell_type": "code",
   "execution_count": 28,
   "id": "f3529375-c150-499a-982a-870485822870",
   "metadata": {},
   "outputs": [
    {
     "name": "stdout",
     "output_type": "stream",
     "text": [
      "False\n",
      "True\n",
      "True\n"
     ]
    }
   ],
   "source": [
    "# 7. Write a program to demonstrate the use of logical operators\n",
    "\n",
    "x = 10\n",
    "y = 5\n",
    "\n",
    "print(x > 5 and y > 10)  \n",
    "print(x < 5 or y < 10)   \n",
    "print (x == 10)   \n"
   ]
  },
  {
   "cell_type": "code",
   "execution_count": 5,
   "id": "46ab63f4-dec4-4139-8d89-3476b01aaab3",
   "metadata": {},
   "outputs": [
    {
     "name": "stdin",
     "output_type": "stream",
     "text": [
      "Enter player's age:  19\n",
      "Is the player fit? (yes/no):  yes\n",
      "Is the player selected in trials? (yes/no):  yes\n"
     ]
    },
    {
     "name": "stdout",
     "output_type": "stream",
     "text": [
      "Player is eligible for the team \n"
     ]
    }
   ],
   "source": [
    " # Write a program to demonstrate the use of logical operators.\n",
    "# Input details\n",
    "age = int(input(\"Enter player's age: \"))\n",
    "fitness = input(\"Is the player fit? (yes/no): \").lower()\n",
    "selected_in_trials = input(\"Is the player selected in trials? (yes/no): \").lower()\n",
    "\n",
    "# Convert fitness and trials to Boolean\n",
    "is_fit = fitness == \"yes\"\n",
    "is_selected = selected_in_trials == \"yes\"\n",
    "\n",
    "# Logical operator usage\n",
    "\n",
    "#  Player is eligible only if age is between 18 and 35 AND is fit AND selected\n",
    "if (age >= 18 and age <= 35) and is_fit and is_selected:\n",
    "    print(\"Player is eligible for the team \")\n",
    "else:\n",
    "    print(\"Player is NOT eligible \")\n",
    "\n",
    "#  Additional check using OR and NOT\n",
    "if not is_fit or not is_selected:\n",
    "    print(\"Reason: Player is either unfit or not selected in trials.\")\n",
    "\n"
   ]
  },
  {
   "cell_type": "code",
   "execution_count": 3,
   "id": "ef628a8e-d26f-4770-9065-71bbf91d1bce",
   "metadata": {},
   "outputs": [
    {
     "name": "stdin",
     "output_type": "stream",
     "text": [
      "Enter number :  12\n"
     ]
    },
    {
     "name": "stdout",
     "output_type": "stream",
     "text": [
      "Integer: 12\n",
      "Float: 12.0\n",
      "Boolean: True\n"
     ]
    }
   ],
   "source": [
    "# 9. Write a Python program to convert user input from string to integer, float, and boolean types\n",
    "\n",
    "user_input = input(\"Enter number : \")\n",
    "\n",
    "int_val = int(user_input)\n",
    "float_val = float(user_input)\n",
    "bool_val = bool(user_input)\n",
    "\n",
    "print(\"Integer:\", int_val)\n",
    "print(\"Float:\", float_val)\n",
    "print(\"Boolean:\", bool_val)\n",
    "\n"
   ]
  },
  {
   "cell_type": "code",
   "execution_count": 39,
   "id": "079bd828-5b92-41a5-bd1e-a6f30e8c93ef",
   "metadata": {},
   "outputs": [
    {
     "name": "stdout",
     "output_type": "stream",
     "text": [
      "Original list (strings): ['1', '2', '3']\n",
      "Converted list (integers): [1, 2, 3]\n"
     ]
    }
   ],
   "source": [
    "# 10. Write code to demonstrate type casting with list elements\n",
    "\n",
    "\n",
    "\n",
    "str_list = ['1', '2', '3']\n",
    "int_list = list(map(int, str_list))\n",
    "print(\"Original list (strings):\", str_list)\n",
    "print(\"Converted list (integers):\", int_list)\n"
   ]
  },
  {
   "cell_type": "code",
   "execution_count": 40,
   "id": "fba85838-5822-4aad-9012-c04bcea19b0b",
   "metadata": {},
   "outputs": [
    {
     "name": "stdin",
     "output_type": "stream",
     "text": [
      "Enter a number:  12\n"
     ]
    },
    {
     "name": "stdout",
     "output_type": "stream",
     "text": [
      "Positive\n"
     ]
    }
   ],
   "source": [
    "# 11. Write a program that checks if a number is positive, negative, or zero\n",
    "\n",
    "num = float(input(\"Enter a number: \"))\n",
    "if num > 0:\n",
    "    print(\"Positive\")\n",
    "elif num < 0:\n",
    "    print(\"Negative\")\n",
    "else:\n",
    "    print(\"Zero\")\n",
    "\n"
   ]
  },
  {
   "cell_type": "code",
   "execution_count": 41,
   "id": "6f17188a-64b1-42ec-8edd-d3c37956bc57",
   "metadata": {},
   "outputs": [
    {
     "name": "stdout",
     "output_type": "stream",
     "text": [
      "1\n",
      "2\n",
      "3\n",
      "4\n",
      "5\n",
      "6\n",
      "7\n",
      "8\n",
      "9\n",
      "10\n"
     ]
    }
   ],
   "source": [
    " # 12. Write a for loop to print numbers from 1 to 10\n",
    "for i in range(1, 11):\n",
    "    print(i)\n"
   ]
  },
  {
   "cell_type": "code",
   "execution_count": 44,
   "id": "162e48be-15c1-43bd-8e46-4e166517c298",
   "metadata": {},
   "outputs": [
    {
     "name": "stdout",
     "output_type": "stream",
     "text": [
      "Sum of even numbers from 1 to 50: 650\n"
     ]
    }
   ],
   "source": [
    "# 13. Write a Python program to find the sum of all even numbers between 1 and 50\n",
    "total = 0\n",
    "for i in range(2, 51, 2):\n",
    "    total += i\n",
    "print(\"Sum of even numbers from 1 to 50:\", total)\n",
    "\n"
   ]
  },
  {
   "cell_type": "code",
   "execution_count": 45,
   "id": "095f2f27-42d4-487d-9d6c-fefb78104939",
   "metadata": {},
   "outputs": [
    {
     "name": "stdin",
     "output_type": "stream",
     "text": [
      "Enter a string:  sff\n"
     ]
    },
    {
     "name": "stdout",
     "output_type": "stream",
     "text": [
      "Reversed string: ffs\n"
     ]
    }
   ],
   "source": [
    "# 14. Write a program to reverse a string using a while loop\n",
    "\n",
    "text = input(\"Enter a string: \")\n",
    "reversed_text = \"\"\n",
    "i = len(text) - 1\n",
    "\n",
    "while i >= 0:\n",
    "    reversed_text += text[i]\n",
    "    i -= 1\n",
    "\n",
    "print(\"Reversed string:\", reversed_text)\n"
   ]
  },
  {
   "cell_type": "code",
   "execution_count": 4,
   "id": "c293364d-26dc-47ea-ab30-5d5112f261eb",
   "metadata": {},
   "outputs": [
    {
     "name": "stdin",
     "output_type": "stream",
     "text": [
      "Enter a number:  10\n"
     ]
    },
    {
     "name": "stdout",
     "output_type": "stream",
     "text": [
      "Factorial: 3628800\n"
     ]
    }
   ],
   "source": [
    "# 15. Write a Python program to calculate the factorial of a number provided by the user using a while loop?\n",
    "\n",
    "num = int(input(\"Enter a number: \"))\n",
    "fact = 1\n",
    "i = 1\n",
    "\n",
    "while i <= num:\n",
    "    fact *= i\n",
    "    i += 1\n",
    "\n",
    "print(\"Factorial:\", fact)\n"
   ]
  },
  {
   "cell_type": "code",
   "execution_count": null,
   "id": "3d71f124-d00d-483b-8960-eba2758da596",
   "metadata": {},
   "outputs": [],
   "source": []
  }
 ],
 "metadata": {
  "kernelspec": {
   "display_name": "Python 3 (ipykernel)",
   "language": "python",
   "name": "python3"
  },
  "language_info": {
   "codemirror_mode": {
    "name": "ipython",
    "version": 3
   },
   "file_extension": ".py",
   "mimetype": "text/x-python",
   "name": "python",
   "nbconvert_exporter": "python",
   "pygments_lexer": "ipython3",
   "version": "3.12.7"
  }
 },
 "nbformat": 4,
 "nbformat_minor": 5
}

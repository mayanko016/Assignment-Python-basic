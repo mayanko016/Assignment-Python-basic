{
 "cells": [
  {
   "cell_type": "markdown",
   "id": "53b5b098-f85d-4ce0-bf7e-36b0252402ce",
   "metadata": {},
   "source": [
    "                                    Assignment -Data Types and Structures Questions\n",
    "                                    "
   ]
  },
  {
   "cell_type": "code",
   "execution_count": 1,
   "id": "d2261ff6-effa-4085-b318-c5762990cf99",
   "metadata": {},
   "outputs": [],
   "source": [
    "# 1. What are data structures, and why are they important?\n",
    "\n",
    "# Ans. Data structures are ways to organize and store data \n",
    "#  so we can use it efficiently — like keeping clothes in drawers to find them faster.\n",
    "\n"
   ]
  },
  {
   "cell_type": "code",
   "execution_count": 3,
   "id": "e42ae2b2-571b-406c-b07f-497aea05f43a",
   "metadata": {},
   "outputs": [],
   "source": [
    "# 2. Explain the difference between mutable and immutable data types with examples.\n",
    "\n",
    "# Ans.Mutable types like lists can be changed after creation. Immutable types like strings, tuples can’t be changed.\n",
    "# Example:\n",
    "# a = [1, 2]  mutable  \n",
    "# b = (1, 2)  immutable"
   ]
  },
  {
   "cell_type": "code",
   "execution_count": 4,
   "id": "66e4311a-2949-40b0-983f-15ea011da1cd",
   "metadata": {},
   "outputs": [],
   "source": [
    "# 3. What are the main differences between lists and tuples in Python?\n",
    "\n",
    "# Ans.Lists is mutable and tuples is immutable. \n",
    "\n"
   ]
  },
  {
   "cell_type": "code",
   "execution_count": 5,
   "id": "bbc52e26-09a8-4b69-8a0a-05217785df0e",
   "metadata": {},
   "outputs": [],
   "source": [
    "# 4. Describe how dictionaries store data.\n",
    "\n",
    "# Ans.Dictionaries store data in key-value pairs, like a contact book where a name key maps to a number value."
   ]
  },
  {
   "cell_type": "code",
   "execution_count": 6,
   "id": "109f497f-fd0e-4c12-acaf-8f69d711da55",
   "metadata": {},
   "outputs": [],
   "source": [
    "# 5. Why might you use a set instead of a list in Python?\n",
    "\n",
    "# Ans.Sets automatically remove duplicates and are faster for checking if something exists."
   ]
  },
  {
   "cell_type": "code",
   "execution_count": 7,
   "id": "7c84f803-aed4-4a71-83dd-e1744a553a20",
   "metadata": {},
   "outputs": [],
   "source": [
    "# 6. What is a string in Python, and how is it different from a list?\n",
    "\n",
    "# Ans. A string is a sequence of characters, like \"hello\". Unlike lists, \n",
    "# strings can’t be changed and only store characters."
   ]
  },
  {
   "cell_type": "code",
   "execution_count": 8,
   "id": "865ef081-8a18-43ef-8712-bfae71554f50",
   "metadata": {},
   "outputs": [],
   "source": [
    "# 7. How do tuples ensure data integrity in Python?\n",
    "\n",
    "# Ans. tuples can't be changed, they protect the data from accidental edits — good for fixed data like employ ID."
   ]
  },
  {
   "cell_type": "code",
   "execution_count": 9,
   "id": "734df865-909d-45d2-849a-c757806c6a6f",
   "metadata": {},
   "outputs": [],
   "source": [
    "# 8. What is a hash table, and how does it relate to dictionaries in Python?\n",
    "\n",
    "# Ans. A hash table is a system that quickly maps keys to values using a hash function. \n",
    "# Python dictionaries use hash tables under the hood."
   ]
  },
  {
   "cell_type": "code",
   "execution_count": 10,
   "id": "ff81dc68-7744-4021-ba78-1060964be0b6",
   "metadata": {},
   "outputs": [],
   "source": [
    "# 9. Can lists contain different data types in Python?\n",
    "\n",
    "# Ans. Yes, Python lists can store anything — numbers, strings, even other lists."
   ]
  },
  {
   "cell_type": "code",
   "execution_count": 11,
   "id": "67f6704e-1d4b-4433-bba7-0e72c961c095",
   "metadata": {},
   "outputs": [],
   "source": [
    "# 10. Explain why strings are immutable in Python.\n",
    "\n",
    "# Ans.Strings are immutable to save memory and make them safe to share  the program without risk of unexpected changes.\n",
    "\n"
   ]
  },
  {
   "cell_type": "code",
   "execution_count": 12,
   "id": "716f29f7-2aee-44f9-b619-7d279d92f80a",
   "metadata": {},
   "outputs": [],
   "source": [
    "# 11. What advantages do dictionaries offer over lists for certain tasks?\n",
    "\n",
    "# Ans. Dictionaries give faster access using keys instead of searching through the list — great when each item has a label."
   ]
  },
  {
   "cell_type": "code",
   "execution_count": 13,
   "id": "3189aeec-63cc-4a03-b361-0dfdbf3fcc25",
   "metadata": {},
   "outputs": [],
   "source": [
    "# 12. Describe a scenario where using a tuple would be preferable over a list.\n",
    "    \n",
    "# Ans.If you want to store fixed info like employ ID that shouldn’t change, use a tuple."
   ]
  },
  {
   "cell_type": "code",
   "execution_count": 14,
   "id": "95ab9922-d59c-4493-959f-864e00d19d60",
   "metadata": {},
   "outputs": [],
   "source": [
    "# 13. How do sets handle duplicate values in Python?\n",
    "\n",
    "# Ans. Sets remove any duplicate values automatically and we only get unique elements."
   ]
  },
  {
   "cell_type": "code",
   "execution_count": 15,
   "id": "7b57d838-c8b9-48d9-a609-0a1d5e3bc051",
   "metadata": {},
   "outputs": [],
   "source": [
    "# 14. How does the “in” keyword work differently for lists and dictionaries?\n",
    "\n",
    "# Ans. For lists, it checks if a value exists. For dictionaries, it checks if a key exists .\n",
    "\n"
   ]
  },
  {
   "cell_type": "code",
   "execution_count": 16,
   "id": "34bec258-d82d-46c8-a563-fe9960e5a60a",
   "metadata": {},
   "outputs": [],
   "source": [
    "# 15. Can you modify the elements of a tuple? Explain why or why not.\n",
    "\n",
    "# Ans. No tuples are immutable. Once created, their contents can't be changed"
   ]
  },
  {
   "cell_type": "code",
   "execution_count": 17,
   "id": "535aa12f-93de-472a-b5c1-08a463fc2a82",
   "metadata": {},
   "outputs": [],
   "source": [
    "# 16. What is a nested dictionary, and give an example of its use case.\n",
    "# Ans.A nested dictionary has another dictionary inside it.\n",
    "# Example:\n",
    "# student = {\"name\": \"Mayank\", \"marks\": {\"math\": 90, \"eng\": 85}}\n"
   ]
  },
  {
   "cell_type": "code",
   "execution_count": 18,
   "id": "8b5bab9b-f2b8-4fb3-bba7-56346d55fbe5",
   "metadata": {},
   "outputs": [],
   "source": [
    "# 17. Describe the time complexity of accessing elements in a dictionary.\n",
    "\n",
    "# Ans.Accessing elements is usually O(1), which means it's super fast — no matter how big the dictionary is."
   ]
  },
  {
   "cell_type": "code",
   "execution_count": 21,
   "id": "c7b60878-dabc-41f6-8f39-6c4891a88883",
   "metadata": {},
   "outputs": [],
   "source": [
    "# 18. In what situations are lists preferred over dictionaries?\n",
    "\n",
    "# Ans.When order matters or we just have a simple sequence of items without labels — like a to-do list."
   ]
  },
  {
   "cell_type": "code",
   "execution_count": null,
   "id": "7558cae2-5003-4618-8b85-49d2ea377c6c",
   "metadata": {},
   "outputs": [],
   "source": [
    "# 19. Why are dictionaries considered unordered, and how does that affect data retrieval?\n",
    "\n",
    "# Ans.Dictionaries are unordered because they store data by key, not position. \n",
    "# we access values using keys, not indexes, so order doesn’t matter."
   ]
  },
  {
   "cell_type": "code",
   "execution_count": null,
   "id": "be55530c-5f17-4487-a062-3c065eebddef",
   "metadata": {},
   "outputs": [],
   "source": [
    "# 20. Explain the difference between a list and a dictionary in terms of data retrieval.\n",
    "    \n",
    "# Ans. In a list, we find data by position (index). In a dictionary, we get data using a key — much faster and clearer.\n",
    "\n"
   ]
  },
  {
   "cell_type": "markdown",
   "id": "5abf07ba-53b0-405b-84fc-3bdd9ed6a375",
   "metadata": {},
   "source": [
    "Practical Questions"
   ]
  },
  {
   "cell_type": "code",
   "execution_count": 23,
   "id": "9361fd31-2464-4459-a649-5f02b202da46",
   "metadata": {},
   "outputs": [
    {
     "name": "stdout",
     "output_type": "stream",
     "text": [
      "Mayank\n"
     ]
    }
   ],
   "source": [
    "# 1. Create a string with your name and print it\n",
    "\n",
    "# Ans.\n",
    "name = \"Mayank\"\n",
    "print(name)\n"
   ]
  },
  {
   "cell_type": "code",
   "execution_count": 24,
   "id": "f81f698a-48cb-4c1e-abf9-2ff61e941670",
   "metadata": {},
   "outputs": [
    {
     "name": "stdout",
     "output_type": "stream",
     "text": [
      "11\n"
     ]
    }
   ],
   "source": [
    "# 2. Find the length of the string \"Hello World\"\n",
    "\n",
    "#Ans.\n",
    "print(len(\"Hello World\"))\n"
   ]
  },
  {
   "cell_type": "code",
   "execution_count": 26,
   "id": "0d083c1c-22cd-4918-9f82-14e2d502ff9e",
   "metadata": {},
   "outputs": [
    {
     "name": "stdout",
     "output_type": "stream",
     "text": [
      "Pyt\n"
     ]
    }
   ],
   "source": [
    "# 3. Slice the first 3 characters from \"Python Programming\"\n",
    "\n",
    "# Ans.\n",
    "text = \"Python Programming\"\n",
    "print(text[:3])\n"
   ]
  },
  {
   "cell_type": "code",
   "execution_count": 27,
   "id": "e5b5e12e-c2e2-4578-bc4a-fbfd099e0d99",
   "metadata": {},
   "outputs": [
    {
     "name": "stdout",
     "output_type": "stream",
     "text": [
      "HELLO\n"
     ]
    }
   ],
   "source": [
    "# 4. Convert \"hello\" to uppercase\n",
    "\n",
    "# Ans.\n",
    "print(\"hello\".upper())\n"
   ]
  },
  {
   "cell_type": "code",
   "execution_count": 28,
   "id": "14c9914d-683c-4628-8809-214d07d24f94",
   "metadata": {},
   "outputs": [
    {
     "name": "stdout",
     "output_type": "stream",
     "text": [
      "I like orange\n"
     ]
    }
   ],
   "source": [
    "# 5. Replace \"apple\" with \"orange\"\n",
    "\n",
    "#Ans.\n",
    "print(\"I like apple\".replace(\"apple\", \"orange\"))\n"
   ]
  },
  {
   "cell_type": "code",
   "execution_count": 29,
   "id": "6f493e34-562f-40cd-b433-405219582f73",
   "metadata": {},
   "outputs": [
    {
     "name": "stdout",
     "output_type": "stream",
     "text": [
      "[1, 2, 3, 4, 5]\n"
     ]
    }
   ],
   "source": [
    "# 6. Create a list with numbers 1 to 5 and print it\n",
    "# Ans.\n",
    "numbers = [1, 2, 3, 4, 5]\n",
    "print(numbers)\n",
    "\n",
    "\n"
   ]
  },
  {
   "cell_type": "code",
   "execution_count": 31,
   "id": "9e21a5bd-82d4-41af-bab3-4eb187a90744",
   "metadata": {},
   "outputs": [
    {
     "name": "stdout",
     "output_type": "stream",
     "text": [
      "[1, 2, 3, 4, 10]\n"
     ]
    }
   ],
   "source": [
    "# 7. Append 10 to the list [1, 2, 3, 4]\n",
    "# Ans.\n",
    "lst = [1, 2, 3, 4]\n",
    "lst.append(10)\n",
    "print(lst)\n"
   ]
  },
  {
   "cell_type": "code",
   "execution_count": 32,
   "id": "21dcb548-e648-4f61-8f60-9f9a4d4552cc",
   "metadata": {},
   "outputs": [
    {
     "name": "stdout",
     "output_type": "stream",
     "text": [
      "[1, 2, 4, 5]\n"
     ]
    }
   ],
   "source": [
    "# 8. Remove 3 from the list [1, 2, 3, 4, 5]\n",
    "\n",
    "# Ans\n",
    "lst = [1, 2, 3, 4, 5]\n",
    "lst.remove(3)\n",
    "print(lst)\n"
   ]
  },
  {
   "cell_type": "code",
   "execution_count": 61,
   "id": "eab437ef-8850-4d67-b783-92a55a569257",
   "metadata": {},
   "outputs": [
    {
     "name": "stdout",
     "output_type": "stream",
     "text": [
      "b\n"
     ]
    }
   ],
   "source": [
    "# 9. Access the second element in ['a', 'b', 'c', 'd']\n",
    "# Ans.\n",
    "l = ['a', 'b', 'c', 'd']\n",
    "print(l[1])\n",
    "\n"
   ]
  },
  {
   "cell_type": "code",
   "execution_count": 34,
   "id": "5b11a330-e985-40f9-bcd5-13582b2fb077",
   "metadata": {},
   "outputs": [
    {
     "name": "stdout",
     "output_type": "stream",
     "text": [
      "[50, 40, 30, 20, 10]\n"
     ]
    }
   ],
   "source": [
    "# 10. Reverse the list [10, 20, 30, 40, 50]\n",
    "# Ans.\n",
    "lst = [10, 20, 30, 40, 50]\n",
    "print(lst[::-1])\n"
   ]
  },
  {
   "cell_type": "code",
   "execution_count": 35,
   "id": "91e38123-8870-4ab3-a716-b72c058a6940",
   "metadata": {},
   "outputs": [
    {
     "name": "stdout",
     "output_type": "stream",
     "text": [
      "(100, 200, 300)\n"
     ]
    }
   ],
   "source": [
    "# 11. Create a tuple with 100, 200, 300 and print it\\\n",
    "# Ans.\n",
    "t = (100, 200, 300)\n",
    "print(t)\n"
   ]
  },
  {
   "cell_type": "code",
   "execution_count": 36,
   "id": "b078aba3-e22a-4dda-a3a5-ecd42c561194",
   "metadata": {},
   "outputs": [
    {
     "name": "stdout",
     "output_type": "stream",
     "text": [
      "blue\n"
     ]
    }
   ],
   "source": [
    "# 12. Access second-to-last element of ('red', 'green', 'blue', 'yellow')\n",
    "# Ans\n",
    "colors = ('red', 'green', 'blue', 'yellow')\n",
    "print(colors[-2])\n"
   ]
  },
  {
   "cell_type": "code",
   "execution_count": 37,
   "id": "90c74cd1-6690-42ff-9907-5aab0f4f094b",
   "metadata": {},
   "outputs": [
    {
     "name": "stdout",
     "output_type": "stream",
     "text": [
      "5\n"
     ]
    }
   ],
   "source": [
    "# 13. Find minimum in (10, 20, 5, 15)\n",
    "# Ans.\n",
    "nums = (10, 20, 5, 15)\n",
    "print(min(nums))\n"
   ]
  },
  {
   "cell_type": "code",
   "execution_count": 38,
   "id": "59fc3958-f575-45ad-9e37-3b604f58448b",
   "metadata": {},
   "outputs": [
    {
     "name": "stdout",
     "output_type": "stream",
     "text": [
      "1\n"
     ]
    }
   ],
   "source": [
    "# 14. Index of \"cat\" in ('dog', 'cat', 'rabbit')\n",
    "# Ans.\n",
    "animals = ('dog', 'cat', 'rabbit')\n",
    "print(animals.index(\"cat\"))\n"
   ]
  },
  {
   "cell_type": "code",
   "execution_count": 64,
   "id": "82983438-f914-45ab-bee9-a5ac77f8e5ad",
   "metadata": {},
   "outputs": [
    {
     "name": "stdout",
     "output_type": "stream",
     "text": [
      "True\n"
     ]
    }
   ],
   "source": [
    "# 15. Tuple of fruits and check if \"kiwi\" is in it\n",
    "# Ans\n",
    "fruits = (\"apple\", \"banana\", \"mango\",\"Kiwi\")\n",
    "print(\"Kiwi\" in fruits)\n"
   ]
  },
  {
   "cell_type": "code",
   "execution_count": 40,
   "id": "ef8d403b-9148-4e27-97f0-1db2f541a553",
   "metadata": {},
   "outputs": [
    {
     "name": "stdout",
     "output_type": "stream",
     "text": [
      "{'a', 'c', 'b'}\n"
     ]
    }
   ],
   "source": [
    "# 16. Create a set with 'a', 'b', 'c' and print it\n",
    "# Ans\n",
    "s = {'a', 'b', 'c'}\n",
    "print(s)\n"
   ]
  },
  {
   "cell_type": "code",
   "execution_count": 41,
   "id": "259662a3-1f2a-46d5-ae91-8fefcb6b5536",
   "metadata": {},
   "outputs": [
    {
     "name": "stdout",
     "output_type": "stream",
     "text": [
      "set()\n"
     ]
    }
   ],
   "source": [
    "# 17. Clear all elements from set {1, 2, 3, 4, 5}\n",
    "# Ans.\n",
    "s = {1, 2, 3, 4, 5}\n",
    "s.clear()\n",
    "print(s)\n"
   ]
  },
  {
   "cell_type": "code",
   "execution_count": 42,
   "id": "8963b7f8-75cd-4408-98ab-4e6afb0b832d",
   "metadata": {},
   "outputs": [
    {
     "name": "stdout",
     "output_type": "stream",
     "text": [
      "{1, 2, 3}\n"
     ]
    }
   ],
   "source": [
    "# 18. Remove 4 from set {1, 2, 3, 4}\n",
    "# Ans.\n",
    "s = {1, 2, 3, 4}\n",
    "s.remove(4)\n",
    "print(s)\n"
   ]
  },
  {
   "cell_type": "code",
   "execution_count": 43,
   "id": "d55fe276-c1d0-4ab6-bc0b-e20b12411c6f",
   "metadata": {},
   "outputs": [
    {
     "name": "stdout",
     "output_type": "stream",
     "text": [
      "{1, 2, 3, 4, 5}\n"
     ]
    }
   ],
   "source": [
    "# 19. Find union of {1, 2, 3} and {3, 4, 5}\n",
    "# Ans.\n",
    "a = {1, 2, 3}\n",
    "b = {3, 4, 5}\n",
    "print(a.union(b))\n"
   ]
  },
  {
   "cell_type": "code",
   "execution_count": 44,
   "id": "102961de-31af-4881-86a8-e39480780dd8",
   "metadata": {},
   "outputs": [
    {
     "name": "stdout",
     "output_type": "stream",
     "text": [
      "{2, 3}\n"
     ]
    }
   ],
   "source": [
    "# 20. Find intersection of {1, 2, 3} and {2, 3, 4}\n",
    "# Ans.\n",
    "a = {1, 2, 3}\n",
    "b = {2, 3, 4}\n",
    "print(a.intersection(b))\n"
   ]
  },
  {
   "cell_type": "code",
   "execution_count": 46,
   "id": "baf6775a-1711-4776-8fdb-cada55e1e4cb",
   "metadata": {},
   "outputs": [
    {
     "name": "stdout",
     "output_type": "stream",
     "text": [
      "{'name': 'Mayank', 'age': 22, 'city': 'Gwalior'}\n"
     ]
    }
   ],
   "source": [
    "# 21. Create a dictionary with keys \"name\", \"age\", \"city\"\n",
    "# Ans.\n",
    "d = {\"name\": \"Mayank\", \"age\": 22, \"city\": \"Gwalior\"}\n",
    "print(d)\n"
   ]
  },
  {
   "cell_type": "code",
   "execution_count": 47,
   "id": "549d8b40-8ae7-4eb1-bdb9-574e097c9f6f",
   "metadata": {},
   "outputs": [
    {
     "name": "stdout",
     "output_type": "stream",
     "text": [
      "{'name': 'John', 'age': 25, 'country': 'USA'}\n"
     ]
    }
   ],
   "source": [
    "# 22. Add \"country\": \"USA\" to {'name': 'John', 'age': 25}\n",
    "\n",
    "# Ans.\n",
    "d = {'name': 'John', 'age': 25}\n",
    "d['country'] = \"USA\"\n",
    "print(d)\n"
   ]
  },
  {
   "cell_type": "code",
   "execution_count": 48,
   "id": "81874294-eba3-48c9-9f78-f46b291e409e",
   "metadata": {},
   "outputs": [
    {
     "name": "stdout",
     "output_type": "stream",
     "text": [
      "Alice\n"
     ]
    }
   ],
   "source": [
    "# 23. Access value of \"name\" in {'name': 'Alice', 'age': 30}\n",
    "\n",
    "# Ans.\n",
    "d = {'name': 'Alice', 'age': 30}\n",
    "print(d['name'])\n"
   ]
  },
  {
   "cell_type": "code",
   "execution_count": 49,
   "id": "21922682-9e8d-4c84-907a-ed1cf0fbf2c5",
   "metadata": {},
   "outputs": [
    {
     "name": "stdout",
     "output_type": "stream",
     "text": [
      "{'name': 'Bob', 'city': 'New York'}\n"
     ]
    }
   ],
   "source": [
    "# 24. Remove key \"age\" from {'name': 'Bob', 'age': 22, 'city': 'New York'}\n",
    "# Ans.\n",
    "d = {'name': 'Bob', 'age': 22, 'city': 'New York'}\n",
    "d.pop('age')\n",
    "print(d)\n"
   ]
  },
  {
   "cell_type": "code",
   "execution_count": 50,
   "id": "d70431c3-693d-4963-a92c-9fc2b9c87a65",
   "metadata": {},
   "outputs": [
    {
     "name": "stdout",
     "output_type": "stream",
     "text": [
      "True\n"
     ]
    }
   ],
   "source": [
    "# 25. Check if \"city\" exists in {'name': 'Alice', 'city': 'Paris'}\n",
    "\n",
    "# Ans.\n",
    "d = {'name': 'Alice', 'city': 'Paris'}\n",
    "print(\"city\" in d)\n"
   ]
  },
  {
   "cell_type": "code",
   "execution_count": 51,
   "id": "d563a76e-30b3-45b9-a82c-a235360b9819",
   "metadata": {},
   "outputs": [
    {
     "name": "stdout",
     "output_type": "stream",
     "text": [
      "[1, 2, 3] (4, 5, 6) {'a': 1, 'b': 2}\n"
     ]
    }
   ],
   "source": [
    "# 26. Create list, tuple, dictionary and print them\n",
    "# Ans.\n",
    "l = [1, 2, 3]\n",
    "t = (4, 5, 6)\n",
    "d = {'a': 1, 'b': 2}\n",
    "print(l, t, d)\n"
   ]
  },
  {
   "cell_type": "code",
   "execution_count": 52,
   "id": "d47fa42f-bfe2-4b5f-919f-7bac83c92060",
   "metadata": {},
   "outputs": [
    {
     "name": "stdout",
     "output_type": "stream",
     "text": [
      "[31, 37, 48, 83, 90]\n"
     ]
    }
   ],
   "source": [
    "# 27. List of 5 random numbers between 1–100, sort and print\n",
    "# Ans.\n",
    "import random\n",
    "nums = random.sample(range(1, 101), 5)\n",
    "nums.sort()\n",
    "print(nums)\n"
   ]
  },
  {
   "cell_type": "code",
   "execution_count": 53,
   "id": "cf65d99e-b7cb-40ab-bca1-3987ed81c577",
   "metadata": {},
   "outputs": [
    {
     "name": "stdout",
     "output_type": "stream",
     "text": [
      "date\n"
     ]
    }
   ],
   "source": [
    "# 28. List with strings and print element at third index\n",
    "# Ans.\n",
    "words = [\"apple\", \"banana\", \"cherry\", \"date\", \"fig\"]\n",
    "print(words[3])\n"
   ]
  },
  {
   "cell_type": "code",
   "execution_count": 59,
   "id": "305a05d0-d3de-477e-a342-431883ca2d4e",
   "metadata": {},
   "outputs": [
    {
     "name": "stdout",
     "output_type": "stream",
     "text": [
      "{'x': 1, 'y': 2, 'z': 3}\n"
     ]
    }
   ],
   "source": [
    "# 29. Combine two dictionaries and print\n",
    "# Ans.\n",
    "a = {\"x\": 1, \"y\": 2}\n",
    "b = {\"z\": 3}\n",
    "c = {**a, **b}\n",
    "print(c)\n"
   ]
  },
  {
   "cell_type": "code",
   "execution_count": 56,
   "id": "8ce30808-26f0-4834-83bf-7012205e5990",
   "metadata": {},
   "outputs": [
    {
     "name": "stdout",
     "output_type": "stream",
     "text": [
      "{'apple', 'banana'}\n"
     ]
    }
   ],
   "source": [
    "# 30. Convert list of strings into a set\n",
    "# Ans.\n",
    "words = [\"apple\", \"banana\", \"apple\"]\n",
    "print(set(words))\n"
   ]
  },
  {
   "cell_type": "code",
   "execution_count": null,
   "id": "9a82f50c-548a-4ab5-8d90-d1ba28d0bce4",
   "metadata": {},
   "outputs": [],
   "source": []
  }
 ],
 "metadata": {
  "kernelspec": {
   "display_name": "Python 3 (ipykernel)",
   "language": "python",
   "name": "python3"
  },
  "language_info": {
   "codemirror_mode": {
    "name": "ipython",
    "version": 3
   },
   "file_extension": ".py",
   "mimetype": "text/x-python",
   "name": "python",
   "nbconvert_exporter": "python",
   "pygments_lexer": "ipython3",
   "version": "3.12.7"
  }
 },
 "nbformat": 4,
 "nbformat_minor": 5
}
